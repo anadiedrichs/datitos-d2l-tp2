{
  "nbformat": 4,
  "nbformat_minor": 0,
  "metadata": {
    "kernelspec": {
      "display_name": "Python 3",
      "language": "python",
      "name": "python3"
    },
    "language_info": {
      "codemirror_mode": {
        "name": "ipython",
        "version": 3
      },
      "file_extension": ".py",
      "mimetype": "text/x-python",
      "name": "python",
      "nbconvert_exporter": "python",
      "pygments_lexer": "ipython3",
      "version": "3.7.3"
    },
    "colab": {
      "name": "Diedrichs-Trabajo práctico 2",
      "provenance": [],
      "collapsed_sections": [],
      "include_colab_link": true
    }
  },
  "cells": [
    {
      "cell_type": "markdown",
      "metadata": {
        "id": "view-in-github",
        "colab_type": "text"
      },
      "source": [
        "<a href=\"https://colab.research.google.com/github/anadiedrichs/datitos-d2l-tp2/blob/main/Diedrichs_Trabajo_pr%C3%A1ctico_2.ipynb\" target=\"_parent\"><img src=\"https://colab.research.google.com/assets/colab-badge.svg\" alt=\"Open In Colab\"/></a>"
      ]
    },
    {
      "cell_type": "markdown",
      "metadata": {
        "id": "3iHsRBSHmUQ4"
      },
      "source": [
        "# Trabajo práctico 2"
      ]
    },
    {
      "cell_type": "markdown",
      "metadata": {
        "id": "I77uG040mURl"
      },
      "source": [
        "### Obtener datasets"
      ]
    },
    {
      "cell_type": "code",
      "metadata": {
        "id": "OTjRDJRQqscz"
      },
      "source": [
        "! pip install -q kaggle"
      ],
      "execution_count": null,
      "outputs": []
    },
    {
      "cell_type": "code",
      "metadata": {
        "colab": {
          "resources": {
            "http://localhost:8080/nbextensions/google.colab/files.js": {
              "data": "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",
              "ok": true,
              "headers": [
                [
                  "content-type",
                  "application/javascript"
                ]
              ],
              "status": 200,
              "status_text": ""
            }
          },
          "base_uri": "https://localhost:8080/",
          "height": 90
        },
        "id": "sxlecVTcmghD",
        "outputId": "464c7ec7-b057-411f-da5d-280fac09f9cd"
      },
      "source": [
        "from google.colab import files\n",
        "\n",
        "files.upload()"
      ],
      "execution_count": null,
      "outputs": [
        {
          "output_type": "display_data",
          "data": {
            "text/html": [
              "\n",
              "     <input type=\"file\" id=\"files-1a10ba93-748a-48b6-9812-33e4bcd9e4b1\" name=\"files[]\" multiple disabled\n",
              "        style=\"border:none\" />\n",
              "     <output id=\"result-1a10ba93-748a-48b6-9812-33e4bcd9e4b1\">\n",
              "      Upload widget is only available when the cell has been executed in the\n",
              "      current browser session. Please rerun this cell to enable.\n",
              "      </output>\n",
              "      <script src=\"/nbextensions/google.colab/files.js\"></script> "
            ],
            "text/plain": [
              "<IPython.core.display.HTML object>"
            ]
          },
          "metadata": {
            "tags": []
          }
        },
        {
          "output_type": "stream",
          "text": [
            "Saving kaggle.json to kaggle.json\n"
          ],
          "name": "stdout"
        },
        {
          "output_type": "execute_result",
          "data": {
            "text/plain": [
              "{'kaggle.json': b'{\"username\":\"adiedrichs\",\"key\":\"fa0b521922f4b2f947b921ef2db85ae4\"}'}"
            ]
          },
          "metadata": {
            "tags": []
          },
          "execution_count": 3
        }
      ]
    },
    {
      "cell_type": "code",
      "metadata": {
        "id": "BEgBdY_im0WI"
      },
      "source": [
        "! cp kaggle.json ~/.kaggle/\n",
        "! chmod 600 ~/.kaggle/kaggle.json"
      ],
      "execution_count": null,
      "outputs": []
    },
    {
      "cell_type": "code",
      "metadata": {
        "colab": {
          "base_uri": "https://localhost:8080/"
        },
        "id": "HvCPn6GUtP4b",
        "outputId": "3a5c4322-3fd5-4523-9ad5-296155a6a210"
      },
      "source": [
        "!kaggle competitions download -c tp-n2-aprendizaje-profundo-2021-by-datitos-v2"
      ],
      "execution_count": null,
      "outputs": [
        {
          "output_type": "stream",
          "text": [
            "Warning: Looks like you're using an outdated API Version, please consider updating (server 1.5.12 / client 1.5.4)\n",
            "Downloading fifa2021_training.csv.zip to /content\n",
            "  0% 0.00/1.16M [00:00<?, ?B/s]\n",
            "100% 1.16M/1.16M [00:00<00:00, 80.0MB/s]\n",
            "Downloading fifa2021_test.csv.zip to /content\n",
            "  0% 0.00/482k [00:00<?, ?B/s]\n",
            "100% 482k/482k [00:00<00:00, 64.9MB/s]\n"
          ],
          "name": "stdout"
        }
      ]
    },
    {
      "cell_type": "code",
      "metadata": {
        "colab": {
          "base_uri": "https://localhost:8080/"
        },
        "id": "rX3Olg0gtkZz",
        "outputId": "e925ef52-6f64-483d-f53f-0690ad2925e3"
      },
      "source": [
        "!ls -la"
      ],
      "execution_count": null,
      "outputs": [
        {
          "output_type": "stream",
          "text": [
            "total 20\n",
            "drwxr-xr-x 1 root root 4096 Apr 16 17:51 .\n",
            "drwxr-xr-x 1 root root 4096 Apr 16 17:50 ..\n",
            "drwxr-xr-x 4 root root 4096 Apr  7 13:35 .config\n",
            "-rw-r--r-- 1 root root   66 Apr 16 17:51 kaggle.json\n",
            "drwxr-xr-x 1 root root 4096 Apr  7 13:36 sample_data\n"
          ],
          "name": "stdout"
        }
      ]
    },
    {
      "cell_type": "code",
      "metadata": {
        "id": "qgBJ48SRmUR1",
        "colab": {
          "base_uri": "https://localhost:8080/"
        },
        "outputId": "4cee6602-8c79-4555-ea7e-34d2493eba98"
      },
      "source": [
        "!unzip fifa2021_training.csv.zip\n",
        "!unzip fifa2021_test.csv.zip"
      ],
      "execution_count": null,
      "outputs": [
        {
          "output_type": "stream",
          "text": [
            "Archive:  fifa2021_training.csv.zip\n",
            "  inflating: fifa2021_training.csv   \n",
            "Archive:  fifa2021_test.csv.zip\n",
            "  inflating: fifa2021_test.csv       \n"
          ],
          "name": "stdout"
        }
      ]
    },
    {
      "cell_type": "markdown",
      "metadata": {
        "id": "b78AkCg6mUR8"
      },
      "source": [
        "### Cargar datasets"
      ]
    },
    {
      "cell_type": "code",
      "metadata": {
        "id": "c_LqmdMbmUSB"
      },
      "source": [
        "import pandas as pd\n",
        "import numpy as np\n",
        "\n",
        "df = pd.read_csv('fifa2021_training.csv')\n",
        "df_infer = pd.read_csv('fifa2021_test.csv')"
      ],
      "execution_count": null,
      "outputs": []
    },
    {
      "cell_type": "markdown",
      "metadata": {
        "id": "Oek1Ft7omUSH"
      },
      "source": [
        "### Breve análisis exploratorio"
      ]
    },
    {
      "cell_type": "code",
      "metadata": {
        "id": "-xeisLcqmUSL",
        "colab": {
          "base_uri": "https://localhost:8080/"
        },
        "outputId": "bbf59338-af3a-4ec9-8845-9e8e358dd342"
      },
      "source": [
        "df.iloc[0]"
      ],
      "execution_count": null,
      "outputs": [
        {
          "output_type": "execute_result",
          "data": {
            "text/plain": [
              "ID                            243620\n",
              "Name                   Adam Hellborg\n",
              "Natinality                    Sweden\n",
              "Overal                            64\n",
              "Potential                         73\n",
              "Height                           188\n",
              "Weight                            79\n",
              "PreferredFoot                      R\n",
              "BirthDate              July 30, 1998\n",
              "Age                               22\n",
              "PlayerWorkRate         Medium/Medium\n",
              "WeakFoot                           3\n",
              "SkillMoves                         2\n",
              "Value                        1.2e+06\n",
              "Wage                            1500\n",
              "Club                       IK Sirius\n",
              "Club_KitNumber                     2\n",
              "Club_JoinedClub         Jan. 8, 2020\n",
              "Club_ContractLength             2022\n",
              "BallControl                       62\n",
              "Dribbling                         55\n",
              "Marking                           60\n",
              "SlideTackle                       57\n",
              "StandTackle                       60\n",
              "Aggression                        71\n",
              "Reactions                         58\n",
              "Interceptions                     60\n",
              "Vision                            61\n",
              "Composure                         63\n",
              "Crossing                          44\n",
              "ShortPass                         67\n",
              "LongPass                          64\n",
              "Acceleration                      54\n",
              "Stamina                           66\n",
              "Strength                          70\n",
              "Balance                           54\n",
              "SprintSpeed                       46\n",
              "Agility                           58\n",
              "Jumping                           57\n",
              "Heading                           53\n",
              "ShotPower                         55\n",
              "Finishing                         39\n",
              "LongShots                         43\n",
              "Curve                             39\n",
              "FKAcc                             33\n",
              "Penalties                         43\n",
              "Volleys                           41\n",
              "GKDiving                          13\n",
              "GKHandling                        10\n",
              "GKKicking                         13\n",
              "GKReflexes                        12\n",
              "Sex                             Male\n",
              "Position                         MID\n",
              "Name: 0, dtype: object"
            ]
          },
          "metadata": {
            "tags": []
          },
          "execution_count": 27
        }
      ]
    },
    {
      "cell_type": "markdown",
      "metadata": {
        "id": "mo1aWIMImUSP"
      },
      "source": [
        "### Particionar datasets"
      ]
    },
    {
      "cell_type": "code",
      "metadata": {
        "id": "QQbMzds_mUSS"
      },
      "source": [
        "from sklearn.model_selection import train_test_split\n",
        "\n",
        "df_train, df_valid = train_test_split(df, stratify=df.Position, train_size=0.9, random_state=42)"
      ],
      "execution_count": null,
      "outputs": []
    },
    {
      "cell_type": "markdown",
      "metadata": {
        "id": "bzMtK-J5mUSW"
      },
      "source": [
        "### Definir transformaciones"
      ]
    },
    {
      "cell_type": "code",
      "metadata": {
        "id": "8qLP2ZhimUSe"
      },
      "source": [
        "from sklearn.preprocessing import StandardScaler, OneHotEncoder\n",
        "from sklearn.compose import make_column_transformer\n",
        "\n",
        "variables_descartar = [\n",
        "    'Position', # variable objetivo\n",
        "    'ID',\n",
        "    'Name',\n",
        "    'Natinality',\n",
        "    'BirthDate',\n",
        "    'Value',\n",
        "    'Wage',\n",
        "    'Club',\n",
        "    'Club_KitNumber',\n",
        "    'Club_JoinedClub',\n",
        "    'Club_ContractLength',\n",
        "]\n",
        "\n",
        "variables_categóricas = df.drop(columns=variables_descartar).select_dtypes(include=np.object).columns\n",
        "variables_numéricas   = df.drop(columns=variables_descartar).select_dtypes(include=np.number).columns\n",
        "\n",
        "transformador = make_column_transformer(\n",
        "    (OneHotEncoder(),  variables_categóricas), # PreferredFoot, PlayerWorkRate, Sex\n",
        "    (StandardScaler(), variables_numéricas),   # Overal, Potential, Height, etc.\n",
        "    remainder='drop' # descarta las columnas no mencionadas en las transformaciones\n",
        ")"
      ],
      "execution_count": null,
      "outputs": []
    },
    {
      "cell_type": "markdown",
      "metadata": {
        "id": "dd6k0E6CmUSk"
      },
      "source": [
        "### Entrenar transformador\n",
        "\n",
        "Esencialmente, calculamos los **promedios** y las **desviaciones estándares** que usaremos para la estandarización.\n",
        "\n",
        "**ESTOS VALORES SOLO DEBEN SER OBTENIDOS DEL DATASET DE ENTRENAMIENTO**."
      ]
    },
    {
      "cell_type": "code",
      "metadata": {
        "id": "ACTcffQdmUSo",
        "colab": {
          "base_uri": "https://localhost:8080/"
        },
        "outputId": "6ad06e7c-0482-4653-b400-f10019e902e4"
      },
      "source": [
        "transformador.fit(df_train)"
      ],
      "execution_count": null,
      "outputs": [
        {
          "output_type": "execute_result",
          "data": {
            "text/plain": [
              "ColumnTransformer(n_jobs=None, remainder='drop', sparse_threshold=0.3,\n",
              "                  transformer_weights=None,\n",
              "                  transformers=[('onehotencoder',\n",
              "                                 OneHotEncoder(categories='auto', drop=None,\n",
              "                                               dtype=<class 'numpy.float64'>,\n",
              "                                               handle_unknown='error',\n",
              "                                               sparse=True),\n",
              "                                 Index(['PreferredFoot', 'PlayerWorkRate', 'Sex'], dtype='object')),\n",
              "                                ('standardscaler',\n",
              "                                 StandardScaler(copy=True, with_mean=Tr...\n",
              "       'StandTackle', 'Aggression', 'Reactions', 'Interceptions', 'Vision',\n",
              "       'Composure', 'Crossing', 'ShortPass', 'LongPass', 'Acceleration',\n",
              "       'Stamina', 'Strength', 'Balance', 'SprintSpeed', 'Agility', 'Jumping',\n",
              "       'Heading', 'ShotPower', 'Finishing', 'LongShots', 'Curve', 'FKAcc',\n",
              "       'Penalties', 'Volleys', 'GKDiving', 'GKHandling', 'GKKicking',\n",
              "       'GKReflexes'],\n",
              "      dtype='object'))],\n",
              "                  verbose=False)"
            ]
          },
          "metadata": {
            "tags": []
          },
          "execution_count": 11
        }
      ]
    },
    {
      "cell_type": "markdown",
      "metadata": {
        "id": "VwmtZimPmUSs"
      },
      "source": [
        "### Transformar datasets"
      ]
    },
    {
      "cell_type": "code",
      "metadata": {
        "id": "Bf6dtlxqmUSv"
      },
      "source": [
        "# el transformador se queja si falta alguna columna de df_train :/\n",
        "df_infer['Position'] = None\n",
        "\n",
        "\n",
        "X_train = transformador.transform(df_train)\n",
        "X_valid = transformador.transform(df_valid)\n",
        "X_infer = transformador.transform(df_infer)"
      ],
      "execution_count": null,
      "outputs": []
    },
    {
      "cell_type": "code",
      "metadata": {
        "colab": {
          "base_uri": "https://localhost:8080/"
        },
        "id": "--DDu1iImV5O",
        "outputId": "db8c826a-7303-4816-c189-37653e62caab"
      },
      "source": [
        "X_infer.shape"
      ],
      "execution_count": null,
      "outputs": [
        {
          "output_type": "execute_result",
          "data": {
            "text/plain": [
              "(5909, 52)"
            ]
          },
          "metadata": {
            "tags": []
          },
          "execution_count": 13
        }
      ]
    },
    {
      "cell_type": "markdown",
      "metadata": {
        "id": "pIGC1Q-OmUSx"
      },
      "source": [
        "### Transformar variable objetivo\n",
        "\n",
        "Como la variable objetivo es del tipo string, hay que llevarla a un tipo numérico para que PyTorch pueda procesarla.\n",
        "\n",
        "Este transformador mapea posiciones DEF, FWD, GK, MID a enteros **y viceversa** — la transformación inversa será útil para convertir las predicciones (enteros) en posiciones otra vez."
      ]
    },
    {
      "cell_type": "code",
      "metadata": {
        "id": "5fGjq9SpmUS0"
      },
      "source": [
        "from sklearn.preprocessing import LabelEncoder\n",
        "\n",
        "transformador_etiquetas = LabelEncoder()\n",
        "\n",
        "transformador_etiquetas.fit(df_train.Position)\n",
        "\n",
        "y_train = transformador_etiquetas.transform(df_train.Position)\n",
        "y_valid = transformador_etiquetas.transform(df_valid.Position)"
      ],
      "execution_count": null,
      "outputs": []
    },
    {
      "cell_type": "markdown",
      "metadata": {
        "id": "JLQpCXRamUS2"
      },
      "source": [
        "### Instanciar Datasets de PyTorch\n",
        "\n",
        "El aprendizaje profundo es especialmente efectivo para imágenes y texto; para datos tabulares (como un DataFrame) el aprendizaje de máquinas clásico suele funcionar bastante bien, de ahí que PyTorch no cuente con facilidades para tratar este tipo de problemas."
      ]
    },
    {
      "cell_type": "code",
      "metadata": {
        "id": "HYK_oXkhmUS6"
      },
      "source": [
        "from torch.utils.data import Dataset\n",
        "\n",
        "class Tabular(Dataset):\n",
        "    def __init__(self, X, y=None):\n",
        "        self.X = X.astype(np.float32) # soluciona \"Expected object of scalar type Float but got scalar type Double\"\n",
        "        self.y = y \n",
        "\n",
        "    def __len__(self):\n",
        "        return len(self.X)\n",
        "    \n",
        "    def __getitem__(self, item):\n",
        "        if self.y is None:\n",
        "            return self.X[item]\n",
        "        else:\n",
        "            return self.X[item], self.y[item]\n",
        "\n",
        "        \n",
        "ds_train = Tabular(X_train, y_train)"
      ],
      "execution_count": null,
      "outputs": []
    },
    {
      "cell_type": "markdown",
      "metadata": {
        "id": "sL4_ejLVmUS9"
      },
      "source": [
        "Como el dataset es liviano y entra en la memoria, para validación e inferencia en vez de hacer esto\n",
        "\n",
        "```python\n",
        "ds_valid = Tabular(X_valid, y_valid)\n",
        "ds_infer = Tabular(X_infer)\n",
        "```\n",
        "\n",
        "vamos a usar tensores simplemente para no complicarla."
      ]
    },
    {
      "cell_type": "code",
      "metadata": {
        "id": "56pb26PpmUS_",
        "colab": {
          "base_uri": "https://localhost:8080/"
        },
        "outputId": "0b47d954-73dc-43be-ac63-a8fe323ebdfc"
      },
      "source": [
        "ds_train[10]"
      ],
      "execution_count": null,
      "outputs": [
        {
          "output_type": "execute_result",
          "data": {
            "text/plain": [
              "(array([ 0.        ,  1.        ,  0.        ,  0.        ,  0.        ,\n",
              "         0.        ,  0.        ,  0.        ,  0.        ,  0.        ,\n",
              "         1.        ,  0.        ,  1.        ,  2.2005258 ,  1.7577571 ,\n",
              "         1.6827489 ,  0.69650096,  1.9552506 ,  2.9999895 , -0.49693993,\n",
              "         1.5163243 ,  1.0263261 ,  0.5255314 , -1.4219726 , -0.93868953,\n",
              "         0.10657337,  2.1206129 ,  0.13522774,  1.5071335 ,  2.1563685 ,\n",
              "         0.6801946 ,  1.1708272 ,  1.3763508 , -0.25280562,  0.7491539 ,\n",
              "         1.286718  , -2.0082333 , -0.4727765 , -0.531109  , -0.06149001,\n",
              "         1.7349557 ,  2.030825  ,  2.0725315 ,  1.5956575 ,  0.90770805,\n",
              "         0.6198386 ,  1.1499894 ,  1.857724  , -0.42461264, -0.31164196,\n",
              "        -0.19319764, -0.09562566], dtype=float32), 1)"
            ]
          },
          "metadata": {
            "tags": []
          },
          "execution_count": 16
        }
      ]
    },
    {
      "cell_type": "markdown",
      "metadata": {
        "id": "UVmXf-RimUTD"
      },
      "source": [
        "### Instanciar DataLoaders de PyTorch"
      ]
    },
    {
      "cell_type": "code",
      "metadata": {
        "id": "5iMfPTe9mUTG"
      },
      "source": [
        "from torch.utils.data import DataLoader\n",
        "\n",
        "dl_train = DataLoader(ds_train, batch_size=32, shuffle=True)"
      ],
      "execution_count": null,
      "outputs": []
    },
    {
      "cell_type": "markdown",
      "metadata": {
        "id": "UPrdSz_jmUTI"
      },
      "source": [
        "Una de las cosas que `DataLoader` hace es convertir arreglos de NumPy en tensores de PyTorch.\n",
        "\n",
        "Como no vamos a hacer esto\n",
        "\n",
        "```python\n",
        "# sin shuffle porque validación e inferencia no requieren barajar sus elementos \n",
        "dl_valid = DataLoader(ds_valid, batch_size=32)\n",
        "dl_infer = DataLoader(ds_infer, batch_size=32)\n",
        "```\n",
        "\n",
        "vamos a definir tensores a mano."
      ]
    },
    {
      "cell_type": "code",
      "metadata": {
        "id": "rR7cw4hhmUTL"
      },
      "source": [
        "import torch\n",
        "\n",
        "X_valid = torch.tensor(X_valid).float()\n",
        "X_infer = torch.tensor(X_infer).float()\n",
        "\n",
        "y_valid = torch.tensor(y_valid)"
      ],
      "execution_count": null,
      "outputs": []
    },
    {
      "cell_type": "markdown",
      "metadata": {
        "id": "GmnZPK1NmUTM"
      },
      "source": [
        "### Instanciar modelo"
      ]
    },
    {
      "cell_type": "code",
      "metadata": {
        "id": "fH4Hu4jZmUTO"
      },
      "source": [
        "import torch\n",
        "import torch.nn as nn"
      ],
      "execution_count": null,
      "outputs": []
    },
    {
      "cell_type": "code",
      "metadata": {
        "id": "H-FivChJmUTQ"
      },
      "source": [
        "IN  = X_train.shape[1]\n",
        "OUT = len(transformador_etiquetas.classes_)\n",
        "\n",
        "modelo = nn.Sequential(\n",
        "    nn.Linear(IN,  8),\n",
        "    nn.Linear( 8, 64), nn.Tanh(), #nn.ReLU(),\n",
        "    nn.Linear(64, 32), nn.Tanh(), # nn.ReLU()\n",
        "    nn.Linear(32, OUT)\n",
        ")"
      ],
      "execution_count": null,
      "outputs": []
    },
    {
      "cell_type": "code",
      "metadata": {
        "id": "OgjN6wD7mUTR"
      },
      "source": [
        "criterio = nn.CrossEntropyLoss()\n",
        "optimizador = torch.optim.Adam(modelo.parameters(), lr=0.001) # Adam # SGD "
      ],
      "execution_count": null,
      "outputs": []
    },
    {
      "cell_type": "markdown",
      "metadata": {
        "id": "TJ6_vBXB6WsA"
      },
      "source": [
        "### Reproducibilidad"
      ]
    },
    {
      "cell_type": "code",
      "metadata": {
        "id": "82UCN8uBz7rt"
      },
      "source": [
        "torch.manual_seed(3)\n",
        "import random\n",
        "random.seed(3)"
      ],
      "execution_count": null,
      "outputs": []
    },
    {
      "cell_type": "markdown",
      "metadata": {
        "id": "vsYXMk8ymUTS"
      },
      "source": [
        "### Entrenar modelo"
      ]
    },
    {
      "cell_type": "code",
      "metadata": {
        "id": "SSJJCbvCmUTS",
        "colab": {
          "base_uri": "https://localhost:8080/"
        },
        "outputId": "b69f21c1-3aa2-4857-aaab-93ba0ca2a609"
      },
      "source": [
        "from sklearn.metrics import balanced_accuracy_score\n",
        "\n",
        "ÉPOCAS = 30\n",
        "\n",
        "train_loss = []\n",
        "valid_loss = []\n",
        "accuracy = []\n",
        "\n",
        "for época in range(ÉPOCAS):\n",
        "    # activa capas Dropout, BatchNorm si las hubiese\n",
        "    modelo.train()\n",
        "\n",
        "    pérdidas_train = []\n",
        "    for X_lote, y_lote in dl_train:\n",
        "        optimizador.zero_grad()\n",
        "\n",
        "        predicciones = modelo(X_lote)\n",
        "        pérdida = criterio(predicciones, y_lote)\n",
        "\n",
        "        pérdida.backward()\n",
        "        optimizador.step()\n",
        "        \n",
        "        pérdidas_train.append(pérdida.item())\n",
        "    \n",
        "    # desactiva capas Dropout, BatchNorm si las hubiese\n",
        "    modelo.eval()\n",
        "    \n",
        "    with torch.no_grad():\n",
        "        predicciones = modelo(X_valid)\n",
        "        pérdida = criterio(predicciones, y_valid)\n",
        "        \n",
        "        y_pred = predicciones.argmax(dim=1) # selecciona la clase con mayor probabilidad\n",
        "        \n",
        "        efectividad = balanced_accuracy_score(y_valid, y_pred)\n",
        "\n",
        "    train_loss.append(np.mean(pérdidas_train))\n",
        "    valid_loss.append(pérdida)\n",
        "    accuracy.append(efectividad)\n",
        "\n",
        "    print(f'{época:3d}  |  Train loss: {np.mean(pérdidas_train):.3f}    Valid loss: {pérdida:.3f}    Valid accuracy: {efectividad:.2f}')"
      ],
      "execution_count": null,
      "outputs": [
        {
          "output_type": "stream",
          "text": [
            "  0  |  Train loss: 0.414    Valid loss: 0.292    Valid accuracy: 0.89\n",
            "  1  |  Train loss: 0.268    Valid loss: 0.269    Valid accuracy: 0.89\n",
            "  2  |  Train loss: 0.257    Valid loss: 0.265    Valid accuracy: 0.89\n",
            "  3  |  Train loss: 0.249    Valid loss: 0.260    Valid accuracy: 0.89\n",
            "  4  |  Train loss: 0.246    Valid loss: 0.260    Valid accuracy: 0.88\n",
            "  5  |  Train loss: 0.241    Valid loss: 0.257    Valid accuracy: 0.90\n",
            "  6  |  Train loss: 0.238    Valid loss: 0.261    Valid accuracy: 0.88\n",
            "  7  |  Train loss: 0.237    Valid loss: 0.257    Valid accuracy: 0.89\n",
            "  8  |  Train loss: 0.233    Valid loss: 0.260    Valid accuracy: 0.89\n",
            "  9  |  Train loss: 0.231    Valid loss: 0.258    Valid accuracy: 0.90\n",
            " 10  |  Train loss: 0.230    Valid loss: 0.261    Valid accuracy: 0.89\n",
            " 11  |  Train loss: 0.228    Valid loss: 0.256    Valid accuracy: 0.89\n",
            " 12  |  Train loss: 0.227    Valid loss: 0.266    Valid accuracy: 0.89\n",
            " 13  |  Train loss: 0.227    Valid loss: 0.258    Valid accuracy: 0.89\n",
            " 14  |  Train loss: 0.225    Valid loss: 0.259    Valid accuracy: 0.89\n",
            " 15  |  Train loss: 0.224    Valid loss: 0.254    Valid accuracy: 0.89\n",
            " 16  |  Train loss: 0.223    Valid loss: 0.257    Valid accuracy: 0.89\n",
            " 17  |  Train loss: 0.222    Valid loss: 0.260    Valid accuracy: 0.90\n",
            " 18  |  Train loss: 0.221    Valid loss: 0.251    Valid accuracy: 0.90\n",
            " 19  |  Train loss: 0.219    Valid loss: 0.254    Valid accuracy: 0.89\n",
            " 20  |  Train loss: 0.218    Valid loss: 0.252    Valid accuracy: 0.89\n",
            " 21  |  Train loss: 0.217    Valid loss: 0.254    Valid accuracy: 0.91\n",
            " 22  |  Train loss: 0.217    Valid loss: 0.251    Valid accuracy: 0.89\n",
            " 23  |  Train loss: 0.216    Valid loss: 0.258    Valid accuracy: 0.90\n",
            " 24  |  Train loss: 0.216    Valid loss: 0.261    Valid accuracy: 0.90\n",
            " 25  |  Train loss: 0.215    Valid loss: 0.250    Valid accuracy: 0.89\n",
            " 26  |  Train loss: 0.213    Valid loss: 0.253    Valid accuracy: 0.90\n",
            " 27  |  Train loss: 0.213    Valid loss: 0.266    Valid accuracy: 0.90\n",
            " 28  |  Train loss: 0.213    Valid loss: 0.253    Valid accuracy: 0.90\n",
            " 29  |  Train loss: 0.211    Valid loss: 0.256    Valid accuracy: 0.89\n"
          ],
          "name": "stdout"
        }
      ]
    },
    {
      "cell_type": "code",
      "metadata": {
        "colab": {
          "base_uri": "https://localhost:8080/",
          "height": 298
        },
        "id": "VQf5dhmq4op2",
        "outputId": "f3cec686-ce5b-4389-9a3e-d4878ed09d89"
      },
      "source": [
        "from matplotlib import pyplot as plt\n",
        "plt.plot(range(0,ÉPOCAS),valid_loss,\n",
        "         range(0,ÉPOCAS),train_loss)"
      ],
      "execution_count": null,
      "outputs": [
        {
          "output_type": "execute_result",
          "data": {
            "text/plain": [
              "[<matplotlib.lines.Line2D at 0x7f7f4e99aa50>,\n",
              " <matplotlib.lines.Line2D at 0x7f7f4e9529d0>]"
            ]
          },
          "metadata": {
            "tags": []
          },
          "execution_count": 24
        },
        {
          "output_type": "display_data",
          "data": {
            "image/png": "[encoded data removed]",
            "text/plain": [
              "<Figure size 432x288 with 1 Axes>"
            ]
          },
          "metadata": {
            "tags": [],
            "needs_background": "light"
          }
        }
      ]
    },
    {
      "cell_type": "markdown",
      "metadata": {
        "id": "QUJ_15AymUTV"
      },
      "source": [
        "### Inferir datos de prueba"
      ]
    },
    {
      "cell_type": "code",
      "metadata": {
        "id": "JvFtsgl1mUTW"
      },
      "source": [
        "with torch.no_grad():\n",
        "    y_infer = modelo(X_infer).argmax(dim=1)\n",
        "\n",
        "df_infer['Position'] = transformador_etiquetas.inverse_transform(y_infer)\n",
        "\n",
        "(\n",
        "    df_infer[['ID', 'Position']]\n",
        "    .rename(columns={'ID':'Id', 'Position':'Category'})\n",
        "    .to_csv('submit.csv', index=False)\n",
        ")"
      ],
      "execution_count": null,
      "outputs": []
    },
    {
      "cell_type": "markdown",
      "metadata": {
        "id": "BmuUUhQimUTZ"
      },
      "source": [
        "### Subir predicciones"
      ]
    },
    {
      "cell_type": "code",
      "metadata": {
        "id": "7H433NFSmUTa",
        "colab": {
          "base_uri": "https://localhost:8080/"
        },
        "outputId": "235fe1b1-38de-455f-b1a6-8aaa06c1a483"
      },
      "source": [
        "!kaggle competitions submit -c tp-n2-aprendizaje-profundo-2021-by-datitos-v2 -f submit.csv -m \"un dos tres probando\""
      ],
      "execution_count": null,
      "outputs": [
        {
          "output_type": "stream",
          "text": [
            "Warning: Looks like you're using an outdated API Version, please consider updating (server 1.5.12 / client 1.5.4)\n",
            "100% 62.8k/62.8k [00:01<00:00, 34.4kB/s]\n",
            "Successfully submitted to T.P. N�2 - Aprendizaje Profundo 2021 by Datitos"
          ],
          "name": "stdout"
        }
      ]
    },
    {
      "cell_type": "markdown",
      "metadata": {
        "id": "asErabyH1Uka"
      },
      "source": [
        "La 5ta submissión resultó en un score de 0.91155, por el momento, liderando el puntaje, aunque no sea garantía de ganar la competencia.\n",
        "\n",
        "### Selección de modelos\n",
        "\n",
        "Luego de bastante prueba y error el modelo que pareció rankear bien fue el siguiente:\n",
        "\n",
        "* Learning rate de 0.001. Valores más grandes hacían oscilar los valores de loss. Valores más pequeños demoraban la convergencia de las curvas loss.\n",
        "* Función de activación de las capas intermedias: tangente hiperbólica\n",
        "* batch size 32 (venía por defecto)\n",
        "* "
      ]
    },
    {
      "cell_type": "markdown",
      "metadata": {
        "id": "B-9R0MPB3BwB"
      },
      "source": [
        "### Caso de cross entropy loss ponderado"
      ]
    },
    {
      "cell_type": "markdown",
      "metadata": {
        "id": "NqrVrCrN3z8v"
      },
      "source": [
        "definir arquitectura de la red y weighted cross entropy loss"
      ]
    },
    {
      "cell_type": "code",
      "metadata": {
        "id": "1mInA25G3BIl"
      },
      "source": [
        "import torch\n",
        "import torch.nn as nn\n",
        "\n",
        "torch.manual_seed(3)\n",
        "import random\n",
        "random.seed(3)\n",
        "\n",
        "IN  = X_train.shape[1]\n",
        "OUT = len(transformador_etiquetas.classes_)\n",
        "\n",
        "modelo = nn.Sequential(\n",
        "    nn.Linear(IN,  8),\n",
        "    nn.Linear( 8, 64), nn.Tanh(), #nn.ReLU(),\n",
        "    nn.Linear(64, 32), nn.Tanh(), # nn.ReLU()\n",
        "    nn.Linear(32, OUT)\n",
        ")\n",
        "sc=torch.tensor([0.5,0.5,1,0.5]) # ¿cuál es la posición de cada clase? \n",
        "criterio = nn.CrossEntropyLoss(weight=sc)\n",
        "optimizador = torch.optim.Adam(modelo.parameters(), lr=0.001) # Adam # SGD"
      ],
      "execution_count": null,
      "outputs": []
    },
    {
      "cell_type": "code",
      "metadata": {
        "colab": {
          "base_uri": "https://localhost:8080/"
        },
        "id": "1MXMYtKR4sf3",
        "outputId": "738e926c-2873-4f27-8a8d-0543dbfa5adb"
      },
      "source": [
        "from sklearn.metrics import balanced_accuracy_score\n",
        "\n",
        "ÉPOCAS = 30\n",
        "\n",
        "train_loss = []\n",
        "valid_loss = []\n",
        "accuracy = []\n",
        "\n",
        "for época in range(ÉPOCAS):\n",
        "    # activa capas Dropout, BatchNorm si las hubiese\n",
        "    modelo.train()\n",
        "\n",
        "    pérdidas_train = []\n",
        "    for X_lote, y_lote in dl_train:\n",
        "        optimizador.zero_grad()\n",
        "\n",
        "        predicciones = modelo(X_lote)\n",
        "        pérdida = criterio(predicciones, y_lote)\n",
        "\n",
        "        pérdida.backward()\n",
        "        optimizador.step()\n",
        "        \n",
        "        pérdidas_train.append(pérdida.item())\n",
        "    \n",
        "    # desactiva capas Dropout, BatchNorm si las hubiese\n",
        "    modelo.eval()\n",
        "    \n",
        "    with torch.no_grad():\n",
        "        predicciones = modelo(X_valid)\n",
        "        pérdida = criterio(predicciones, y_valid)\n",
        "        \n",
        "        y_pred = predicciones.argmax(dim=1) # selecciona la clase con mayor probabilidad\n",
        "        \n",
        "        efectividad = balanced_accuracy_score(y_valid, y_pred)\n",
        "\n",
        "    train_loss.append(np.mean(pérdidas_train))\n",
        "    valid_loss.append(pérdida)\n",
        "    accuracy.append(efectividad)\n",
        "\n",
        "    print(f'{época:3d}  |  Train loss: {np.mean(pérdidas_train):.3f}    Valid loss: {pérdida:.3f}    Valid accuracy: {efectividad:.2f}')\n",
        "    "
      ],
      "execution_count": null,
      "outputs": [
        {
          "output_type": "stream",
          "text": [
            "  0  |  Train loss: 0.400    Valid loss: 0.266    Valid accuracy: 0.89\n",
            "  1  |  Train loss: 0.247    Valid loss: 0.253    Valid accuracy: 0.89\n",
            "  2  |  Train loss: 0.232    Valid loss: 0.243    Valid accuracy: 0.89\n",
            "  3  |  Train loss: 0.226    Valid loss: 0.233    Valid accuracy: 0.89\n",
            "  4  |  Train loss: 0.221    Valid loss: 0.239    Valid accuracy: 0.89\n",
            "  5  |  Train loss: 0.218    Valid loss: 0.228    Valid accuracy: 0.89\n",
            "  6  |  Train loss: 0.215    Valid loss: 0.227    Valid accuracy: 0.89\n",
            "  7  |  Train loss: 0.212    Valid loss: 0.227    Valid accuracy: 0.89\n",
            "  8  |  Train loss: 0.210    Valid loss: 0.234    Valid accuracy: 0.89\n",
            "  9  |  Train loss: 0.210    Valid loss: 0.229    Valid accuracy: 0.89\n",
            " 10  |  Train loss: 0.207    Valid loss: 0.228    Valid accuracy: 0.89\n",
            " 11  |  Train loss: 0.207    Valid loss: 0.227    Valid accuracy: 0.89\n",
            " 12  |  Train loss: 0.205    Valid loss: 0.235    Valid accuracy: 0.89\n",
            " 13  |  Train loss: 0.205    Valid loss: 0.225    Valid accuracy: 0.89\n",
            " 14  |  Train loss: 0.203    Valid loss: 0.225    Valid accuracy: 0.89\n",
            " 15  |  Train loss: 0.201    Valid loss: 0.233    Valid accuracy: 0.89\n",
            " 16  |  Train loss: 0.201    Valid loss: 0.225    Valid accuracy: 0.89\n",
            " 17  |  Train loss: 0.200    Valid loss: 0.225    Valid accuracy: 0.89\n",
            " 18  |  Train loss: 0.199    Valid loss: 0.225    Valid accuracy: 0.89\n",
            " 19  |  Train loss: 0.200    Valid loss: 0.224    Valid accuracy: 0.89\n",
            " 20  |  Train loss: 0.198    Valid loss: 0.233    Valid accuracy: 0.90\n",
            " 21  |  Train loss: 0.198    Valid loss: 0.226    Valid accuracy: 0.89\n",
            " 22  |  Train loss: 0.196    Valid loss: 0.222    Valid accuracy: 0.90\n",
            " 23  |  Train loss: 0.196    Valid loss: 0.234    Valid accuracy: 0.90\n",
            " 24  |  Train loss: 0.195    Valid loss: 0.223    Valid accuracy: 0.89\n",
            " 25  |  Train loss: 0.193    Valid loss: 0.225    Valid accuracy: 0.90\n",
            " 26  |  Train loss: 0.194    Valid loss: 0.231    Valid accuracy: 0.89\n",
            " 27  |  Train loss: 0.193    Valid loss: 0.227    Valid accuracy: 0.89\n",
            " 28  |  Train loss: 0.193    Valid loss: 0.222    Valid accuracy: 0.89\n",
            " 29  |  Train loss: 0.191    Valid loss: 0.226    Valid accuracy: 0.90\n"
          ],
          "name": "stdout"
        }
      ]
    },
    {
      "cell_type": "code",
      "metadata": {
        "colab": {
          "base_uri": "https://localhost:8080/",
          "height": 298
        },
        "id": "dseujvKW4qmM",
        "outputId": "aa5480f5-7ec7-4d52-da54-e8316060394c"
      },
      "source": [
        "from matplotlib import pyplot as plt\n",
        "plt.plot(range(0,ÉPOCAS),valid_loss,\n",
        "         range(0,ÉPOCAS),train_loss)"
      ],
      "execution_count": null,
      "outputs": [
        {
          "output_type": "execute_result",
          "data": {
            "text/plain": [
              "[<matplotlib.lines.Line2D at 0x7f7f4a16f4d0>,\n",
              " <matplotlib.lines.Line2D at 0x7f7f4a1799d0>]"
            ]
          },
          "metadata": {
            "tags": []
          },
          "execution_count": 46
        },
        {
          "output_type": "display_data",
          "data": {
            "image/png": "[encoded data removed]",
            "text/plain": [
              "<Figure size 432x288 with 1 Axes>"
            ]
          },
          "metadata": {
            "tags": [],
            "needs_background": "light"
          }
        }
      ]
    },
    {
      "cell_type": "code",
      "metadata": {
        "id": "XD7-gy4N41bQ"
      },
      "source": [
        "with torch.no_grad():\n",
        "    y_infer = modelo(X_infer).argmax(dim=1)\n",
        "\n",
        "df_infer['Position'] = transformador_etiquetas.inverse_transform(y_infer)\n",
        "\n",
        "(\n",
        "    df_infer[['ID', 'Position']]\n",
        "    .rename(columns={'ID':'Id', 'Position':'Category'})\n",
        "    .to_csv('submit.csv', index=False)\n",
        ")"
      ],
      "execution_count": null,
      "outputs": []
    },
    {
      "cell_type": "code",
      "metadata": {
        "colab": {
          "base_uri": "https://localhost:8080/"
        },
        "id": "000iBwgX45W_",
        "outputId": "53e03357-e6fa-4159-ea53-94ffed795058"
      },
      "source": [
        "!kaggle competitions submit -c tp-n2-aprendizaje-profundo-2021-by-datitos-v2 -f submit.csv -m \"un dos tres probando\""
      ],
      "execution_count": null,
      "outputs": [
        {
          "output_type": "stream",
          "text": [
            "Warning: Looks like you're using an outdated API Version, please consider updating (server 1.5.12 / client 1.5.4)\n",
            "100% 62.8k/62.8k [00:02<00:00, 28.4kB/s]\n",
            "403 - Your team has used its submission allowance (2 of 2). This resets at midnight UTC (5.6 hours from now).\n"
          ],
          "name": "stdout"
        }
      ]
    },
    {
      "cell_type": "markdown",
      "metadata": {
        "id": "lYLExOqK6McR"
      },
      "source": [
        "Submission score scored 0.89348 lo cual no es la mejor puntuación comparada a la anterior"
      ]
    }
  ]
}